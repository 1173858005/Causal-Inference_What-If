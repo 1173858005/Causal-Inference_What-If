{
 "cells": [
  {
   "cell_type": "markdown",
   "metadata": {},
   "source": [
    "# Chapter 14"
   ]
  },
  {
   "cell_type": "markdown",
   "metadata": {},
   "source": [
    "## Setup and imports"
   ]
  },
  {
   "cell_type": "code",
   "execution_count": 1,
   "metadata": {},
   "outputs": [],
   "source": [
    "%matplotlib inline"
   ]
  },
  {
   "cell_type": "code",
   "execution_count": 2,
   "metadata": {},
   "outputs": [],
   "source": [
    "import warnings\n",
    "warnings.filterwarnings('ignore')"
   ]
  },
  {
   "cell_type": "code",
   "execution_count": 3,
   "metadata": {},
   "outputs": [],
   "source": [
    "from collections import namedtuple\n",
    "\n",
    "import numpy as np\n",
    "import pandas as pd\n",
    "import statsmodels.api as sm\n",
    "import scipy.stats\n",
    "import scipy.optimize\n",
    "import matplotlib.pyplot as plt"
   ]
  },
  {
   "cell_type": "code",
   "execution_count": 4,
   "metadata": {},
   "outputs": [
    {
     "name": "stdout",
     "output_type": "stream",
     "text": [
      "WARNING *** OLE2 inconsistency: SSCS size is 0 but SSAT size is non-zero\n"
     ]
    }
   ],
   "source": [
    "nhefs_all = pd.read_excel('NHEFS.xls')"
   ]
  },
  {
   "cell_type": "code",
   "execution_count": 5,
   "metadata": {},
   "outputs": [
    {
     "data": {
      "text/plain": [
       "(1629, 64)"
      ]
     },
     "execution_count": 5,
     "metadata": {},
     "output_type": "execute_result"
    }
   ],
   "source": [
    "nhefs_all.shape"
   ]
  },
  {
   "cell_type": "markdown",
   "metadata": {},
   "source": [
    "Add a variable for censored weight, then add`'constant'`, dummy variables, and squared variables, as done in previous chapters"
   ]
  },
  {
   "cell_type": "code",
   "execution_count": 6,
   "metadata": {},
   "outputs": [],
   "source": [
    "nhefs_all['censored'] = nhefs_all.wt82.isnull().astype('int')"
   ]
  },
  {
   "cell_type": "code",
   "execution_count": 7,
   "metadata": {},
   "outputs": [],
   "source": [
    "nhefs_all['constant'] = 1"
   ]
  },
  {
   "cell_type": "code",
   "execution_count": 8,
   "metadata": {},
   "outputs": [],
   "source": [
    "edu_dummies = pd.get_dummies(nhefs_all.education, prefix='edu')\n",
    "exercise_dummies = pd.get_dummies(nhefs_all.exercise, prefix='exercise')\n",
    "active_dummies = pd.get_dummies(nhefs_all.active, prefix='active')\n",
    "\n",
    "nhefs_all = pd.concat(\n",
    "    [nhefs_all, edu_dummies, exercise_dummies, active_dummies],\n",
    "    axis=1\n",
    ")"
   ]
  },
  {
   "cell_type": "code",
   "execution_count": 9,
   "metadata": {},
   "outputs": [],
   "source": [
    "for col in ['age', 'wt71', 'smokeintensity', 'smokeyrs']:\n",
    "    nhefs_all['{}^2'.format(col)] = nhefs_all[col] * nhefs_all[col]"
   ]
  },
  {
   "cell_type": "markdown",
   "metadata": {},
   "source": [
    "Subset the data as described in the margin, pg 11."
   ]
  },
  {
   "cell_type": "code",
   "execution_count": 10,
   "metadata": {},
   "outputs": [],
   "source": [
    "restriction_cols = [\n",
    "    'sex', 'age', 'race', 'wt82', 'ht', 'school', 'alcoholpy', 'smokeintensity'\n",
    "]\n",
    "missing = nhefs_all[restriction_cols].isnull().any(axis=1)\n",
    "nhefs = nhefs_all.loc[~missing]"
   ]
  },
  {
   "cell_type": "code",
   "execution_count": 11,
   "metadata": {},
   "outputs": [
    {
     "data": {
      "text/plain": [
       "(1566, 81)"
      ]
     },
     "execution_count": 11,
     "metadata": {},
     "output_type": "execute_result"
    }
   ],
   "source": [
    "nhefs.shape"
   ]
  },
  {
   "cell_type": "markdown",
   "metadata": {},
   "source": [
    "## Section 14.3"
   ]
  },
  {
   "cell_type": "markdown",
   "metadata": {},
   "source": [
    "### Program 14.1"
   ]
  },
  {
   "cell_type": "markdown",
   "metadata": {},
   "source": [
    "\"In our smoking cessation example, we will use the nonstabilized IP weights $W^C = 1 \\, / \\, \\Pr[C = 0|L,A]$ that we estimated in Chapter 12. Again we assume that the vector of variables $L$ is sufficient to adjust for both confounding and selection bias.\" pg 174"
   ]
  },
  {
   "cell_type": "code",
   "execution_count": 12,
   "metadata": {},
   "outputs": [],
   "source": [
    "X_ip = nhefs_all[[\n",
    "    'constant',\n",
    "    'sex', 'race', 'age', 'age^2', 'edu_2', 'edu_3', 'edu_4', 'edu_5',\n",
    "    'smokeintensity', 'smokeintensity^2', 'smokeyrs', 'smokeyrs^2', \n",
    "    'exercise_1', 'exercise_2', 'active_1', 'active_2', 'wt71', 'wt71^2',\n",
    "    'qsmk'\n",
    "]]"
   ]
  },
  {
   "cell_type": "markdown",
   "metadata": {},
   "source": [
    "We can reuse a function from chapter 12 to help us create IP weights"
   ]
  },
  {
   "cell_type": "code",
   "execution_count": 13,
   "metadata": {},
   "outputs": [],
   "source": [
    "def logit_ip_f(y, X):\n",
    "    \"\"\"\n",
    "    Create the f(y|X) part of IP weights\n",
    "    from logistic regression\n",
    "    \n",
    "    Parameters\n",
    "    ----------\n",
    "    y : Pandas Series\n",
    "    X : Pandas DataFrame\n",
    "    \n",
    "    Returns\n",
    "    -------\n",
    "    Numpy array of IP weights\n",
    "    \n",
    "    \"\"\"\n",
    "    model = sm.Logit(y, X)\n",
    "    res = model.fit()\n",
    "    weights = np.zeros(X.shape[0])\n",
    "    weights[y == 1] = res.predict(X.loc[y == 1])\n",
    "    weights[y == 0] = 1 - res.predict(X.loc[y == 0])\n",
    "    return weights"
   ]
  },
  {
   "cell_type": "code",
   "execution_count": 14,
   "metadata": {},
   "outputs": [
    {
     "name": "stdout",
     "output_type": "stream",
     "text": [
      "Optimization terminated successfully.\n",
      "         Current function value: 0.142836\n",
      "         Iterations 8\n"
     ]
    }
   ],
   "source": [
    "weights = 1 / logit_ip_f(nhefs_all.censored, X_ip)"
   ]
  },
  {
   "cell_type": "code",
   "execution_count": 15,
   "metadata": {},
   "outputs": [],
   "source": [
    "ip_censor = weights[nhefs_all.censored == 0]"
   ]
  },
  {
   "cell_type": "code",
   "execution_count": 16,
   "metadata": {},
   "outputs": [
    {
     "name": "stdout",
     "output_type": "stream",
     "text": [
      "   min     mean      max\n",
      "------------------------\n",
      "  1.00     1.04     1.82\n"
     ]
    }
   ],
   "source": [
    "print('   min     mean      max')\n",
    "print('------------------------')\n",
    "print('{:>6.2f}   {:>6.2f}   {:>6.2f}'.format(\n",
    "    ip_censor.min(),\n",
    "    ip_censor.mean(),\n",
    "    ip_censor.max()\n",
    "))"
   ]
  },
  {
   "cell_type": "markdown",
   "metadata": {},
   "source": [
    "## Section 14.4"
   ]
  },
  {
   "cell_type": "markdown",
   "metadata": {},
   "source": [
    "Still Program 14.1"
   ]
  },
  {
   "cell_type": "markdown",
   "metadata": {},
   "source": [
    "\"all individuals can be ranked according to the value of their observed outcome Y\""
   ]
  },
  {
   "cell_type": "code",
   "execution_count": 17,
   "metadata": {},
   "outputs": [],
   "source": [
    "ranked = nhefs.sort_values('wt82_71', ascending=False)"
   ]
  },
  {
   "cell_type": "code",
   "execution_count": 18,
   "metadata": {},
   "outputs": [
    {
     "data": {
      "text/html": [
       "<div>\n",
       "<style scoped>\n",
       "    .dataframe tbody tr th:only-of-type {\n",
       "        vertical-align: middle;\n",
       "    }\n",
       "\n",
       "    .dataframe tbody tr th {\n",
       "        vertical-align: top;\n",
       "    }\n",
       "\n",
       "    .dataframe thead th {\n",
       "        text-align: right;\n",
       "    }\n",
       "</style>\n",
       "<table border=\"1\" class=\"dataframe\">\n",
       "  <thead>\n",
       "    <tr style=\"text-align: right;\">\n",
       "      <th></th>\n",
       "      <th>seqn</th>\n",
       "      <th>wt82_71</th>\n",
       "    </tr>\n",
       "  </thead>\n",
       "  <tbody>\n",
       "    <tr>\n",
       "      <th>1366</th>\n",
       "      <td>23522</td>\n",
       "      <td>48.538386</td>\n",
       "    </tr>\n",
       "    <tr>\n",
       "      <th>259</th>\n",
       "      <td>6928</td>\n",
       "      <td>47.511303</td>\n",
       "    </tr>\n",
       "  </tbody>\n",
       "</table>\n",
       "</div>"
      ],
      "text/plain": [
       "       seqn    wt82_71\n",
       "1366  23522  48.538386\n",
       "259    6928  47.511303"
      ]
     },
     "execution_count": 18,
     "metadata": {},
     "output_type": "execute_result"
    }
   ],
   "source": [
    "ranked[['seqn', 'wt82_71']][:2]"
   ]
  },
  {
   "cell_type": "code",
   "execution_count": 19,
   "metadata": {},
   "outputs": [
    {
     "data": {
      "text/html": [
       "<div>\n",
       "<style scoped>\n",
       "    .dataframe tbody tr th:only-of-type {\n",
       "        vertical-align: middle;\n",
       "    }\n",
       "\n",
       "    .dataframe tbody tr th {\n",
       "        vertical-align: top;\n",
       "    }\n",
       "\n",
       "    .dataframe thead th {\n",
       "        text-align: right;\n",
       "    }\n",
       "</style>\n",
       "<table border=\"1\" class=\"dataframe\">\n",
       "  <thead>\n",
       "    <tr style=\"text-align: right;\">\n",
       "      <th></th>\n",
       "      <th>seqn</th>\n",
       "      <th>wt82_71</th>\n",
       "    </tr>\n",
       "  </thead>\n",
       "  <tbody>\n",
       "    <tr>\n",
       "      <th>1328</th>\n",
       "      <td>23321</td>\n",
       "      <td>-41.28047</td>\n",
       "    </tr>\n",
       "  </tbody>\n",
       "</table>\n",
       "</div>"
      ],
      "text/plain": [
       "       seqn   wt82_71\n",
       "1328  23321 -41.28047"
      ]
     },
     "execution_count": 19,
     "metadata": {},
     "output_type": "execute_result"
    }
   ],
   "source": [
    "ranked[['seqn', 'wt82_71']][-1:]"
   ]
  },
  {
   "cell_type": "markdown",
   "metadata": {},
   "source": [
    "## Section 14.5"
   ]
  },
  {
   "cell_type": "markdown",
   "metadata": {},
   "source": [
    "### Program 14.2"
   ]
  },
  {
   "cell_type": "markdown",
   "metadata": {},
   "source": [
    "\"In our smoking cessation example, we first computed each individual’s value of the 31 candidates ...\""
   ]
  },
  {
   "cell_type": "markdown",
   "metadata": {},
   "source": [
    "We're going to need a few different things from the regressions, wo we'll first create a container that holds that information together.\n",
    "\n",
    "We'll want\n",
    "1. absolute value of the coefficient (the basis of comparison),\n",
    "2. the value of the coefficient\n",
    "3. the value of psi that produced the coefficient, and\n",
    "4. the p-value (for finding the 95% confidence interval)"
   ]
  },
  {
   "cell_type": "code",
   "execution_count": 20,
   "metadata": {},
   "outputs": [],
   "source": [
    "GInfo = namedtuple('GInfo', ['abs_alpha', 'alpha', 'psi', 'pvalue'])"
   ]
  },
  {
   "cell_type": "markdown",
   "metadata": {},
   "source": [
    "Now we'll create a function that will perform the regression and return the info we need"
   ]
  },
  {
   "cell_type": "code",
   "execution_count": 21,
   "metadata": {},
   "outputs": [],
   "source": [
    "def logit_g_info(psi, data, y, X_cols, weights):\n",
    "    \"\"\"\n",
    "    Return logistic regression parameters to identify best `psi`\n",
    "    \n",
    "    Note: this is written specifically for the problem in this program\n",
    "    \n",
    "    Paramters\n",
    "    ---------\n",
    "    psi : float\n",
    "    data : Pandas DataFrame\n",
    "        needs to contain the given `X_cols`\n",
    "    y : Pandas Series or Numpy array\n",
    "    X_cols : list of strings\n",
    "        column names for `X`\n",
    "    weights : Pandas Series or Numpy array\n",
    "    \n",
    "    Returns\n",
    "    -------\n",
    "    GInfo namedtuple, containing\n",
    "    - absolute value of H_of_psi coefficient\n",
    "    - H_of_psi coefficient\n",
    "    - psi value\n",
    "    - p-value for H_of_psi coefficient\n",
    "    \n",
    "    \"\"\"\n",
    "    data['H_of_psi'] = data.wt82_71 - psi * data.qsmk\n",
    "    X = data[X_cols]\n",
    "    \n",
    "    gee = sm.GEE(y, X, groups=data.seqn, weights=weights, family=sm.families.Binomial())\n",
    "    res = gee.fit()\n",
    "    \n",
    "    alpha = res.params.H_of_psi\n",
    "    pvalue = res.pvalues.H_of_psi\n",
    "    return GInfo(abs(alpha), alpha, psi, pvalue)"
   ]
  },
  {
   "cell_type": "markdown",
   "metadata": {},
   "source": [
    "For all uses here, `y` and the `X` columns are the same."
   ]
  },
  {
   "cell_type": "code",
   "execution_count": 22,
   "metadata": {},
   "outputs": [],
   "source": [
    "y = nhefs.qsmk\n",
    "X_cols = [\n",
    "    'constant',\n",
    "    'sex', 'race', 'age', 'age^2', 'edu_2', 'edu_3', 'edu_4', 'edu_5',\n",
    "    'smokeintensity', 'smokeintensity^2', 'smokeyrs', 'smokeyrs^2', \n",
    "    'exercise_1', 'exercise_2', 'active_1', 'active_2', 'wt71', 'wt71^2',\n",
    "    'H_of_psi'\n",
    "]"
   ]
  },
  {
   "cell_type": "markdown",
   "metadata": {},
   "source": [
    "We'll run the regression once for the known right answer"
   ]
  },
  {
   "cell_type": "code",
   "execution_count": 23,
   "metadata": {},
   "outputs": [],
   "source": [
    "g_info = logit_g_info(3.446, nhefs, y, X_cols, weights=ip_censor)"
   ]
  },
  {
   "cell_type": "code",
   "execution_count": 24,
   "metadata": {},
   "outputs": [
    {
     "name": "stdout",
     "output_type": "stream",
     "text": [
      "psi: 3.446  regression coefficient: -1.9e-06\n"
     ]
    }
   ],
   "source": [
    "print('psi: {}  regression coefficient: {:>0.2g}'.format(g_info.psi, g_info.alpha))"
   ]
  },
  {
   "cell_type": "markdown",
   "metadata": {},
   "source": [
    "Now we'll do the course-grained search for $\\psi$ with $H(2.0), H(2.1), H(2.2), \\ldots , H(4.9)$ and $H(5.0)$ (pg 178)"
   ]
  },
  {
   "cell_type": "code",
   "execution_count": 25,
   "metadata": {},
   "outputs": [],
   "source": [
    "psi_vals = np.arange(2.0, 5.0, 0.1)"
   ]
  },
  {
   "cell_type": "code",
   "execution_count": 26,
   "metadata": {},
   "outputs": [],
   "source": [
    "g_info = [\n",
    "    logit_g_info(psi, nhefs, nhefs.qsmk, X_cols, ip_censor)\n",
    "    for psi in psi_vals\n",
    "]"
   ]
  },
  {
   "cell_type": "code",
   "execution_count": 27,
   "metadata": {},
   "outputs": [],
   "source": [
    "# by default, `min` will minimize the first value,\n",
    "# which in this case is the absolute value of the coefficient\n",
    "best = min(g_info) "
   ]
  },
  {
   "cell_type": "code",
   "execution_count": 28,
   "metadata": {},
   "outputs": [
    {
     "name": "stdout",
     "output_type": "stream",
     "text": [
      "best psi: 3.4000  best alpha: 0.00086\n"
     ]
    }
   ],
   "source": [
    "print('best psi: {:>0.4f}  best alpha: {:>0.5f}'.format(best.psi, best.alpha))"
   ]
  },
  {
   "cell_type": "markdown",
   "metadata": {},
   "source": [
    "The plot below shows $p$-value as a function of $\\psi$, with a red line at 0.05.\n",
    "\n",
    "To find the 95% confidence interval, we find the last values that are below the line, coming from the left and the right."
   ]
  },
  {
   "cell_type": "code",
   "execution_count": 29,
   "metadata": {},
   "outputs": [
    {
     "data": {
      "image/png": "[encoded data removed]",
      "text/plain": [
       "<Figure size 576x432 with 1 Axes>"
      ]
     },
     "metadata": {
      "needs_background": "light"
     },
     "output_type": "display_data"
    }
   ],
   "source": [
    "fig, ax = plt.subplots(figsize=(8, 6))\n",
    "\n",
    "ax.axhline(0.05, c='r')\n",
    "ax.plot(psi_vals, [g.pvalue for g in g_info])\n",
    "ax.set_xlabel('$\\psi$ value', fontsize=14)\n",
    "ax.set_ylabel('p value', fontsize=14)\n",
    "ax.set_title('$p$-value for each $\\psi$ value', fontsize=16);"
   ]
  },
  {
   "cell_type": "code",
   "execution_count": 30,
   "metadata": {},
   "outputs": [
    {
     "name": "stdout",
     "output_type": "stream",
     "text": [
      "95% confidence interval: (2.50, 4.50)\n"
     ]
    }
   ],
   "source": [
    "cutoff = 0.05\n",
    "ci_lo = max([g.psi for g in g_info[:len(g_info)//2] if g.pvalue < cutoff])\n",
    "ci_hi = min([g.psi for g in g_info[len(g_info)//2:] if g.pvalue < cutoff])\n",
    "\n",
    "print('95% confidence interval: ({:>0.2f}, {:>0.2f})'.format(ci_lo, ci_hi))"
   ]
  },
  {
   "cell_type": "markdown",
   "metadata": {},
   "source": [
    "We can run a finer search between 3.4 and 3.5, with steps of 0.001. That can be done using the same steps as above, but using\n",
    "\n",
    "```\n",
    "psi_vals = np.arange(3.4, 3.5, 0.001)\n",
    "```\n",
    "\n",
    "Here, we'll use automatic function optimization to find a more exact $\\psi$.\n",
    "\n",
    "The second cell below can take a while to run."
   ]
  },
  {
   "cell_type": "code",
   "execution_count": 31,
   "metadata": {},
   "outputs": [],
   "source": [
    "def just_abs_alpha(psi):\n",
    "    g_info = logit_g_info(psi, nhefs, nhefs.qsmk, X_cols, ip_censor)\n",
    "    return g_info.abs_alpha"
   ]
  },
  {
   "cell_type": "code",
   "execution_count": 32,
   "metadata": {},
   "outputs": [
    {
     "data": {
      "text/plain": [
       "      fun: 1.4009161459933774e-10\n",
       " hess_inv: array([[19.82605991]])\n",
       "      jac: array([-1.2353978e-09])\n",
       "  message: 'Optimization terminated successfully.'\n",
       "     nfev: 87\n",
       "      nit: 2\n",
       "     njev: 29\n",
       "   status: 0\n",
       "  success: True\n",
       "        x: array([3.4458988])"
      ]
     },
     "execution_count": 32,
     "metadata": {},
     "output_type": "execute_result"
    }
   ],
   "source": [
    "scipy.optimize.minimize(\n",
    "    fun=just_abs_alpha,\n",
    "    x0=4.0\n",
    ")"
   ]
  },
  {
   "cell_type": "markdown",
   "metadata": {},
   "source": [
    "The x value in the output is the estimated $\\psi$, which rounds to 3.446, as expected"
   ]
  },
  {
   "cell_type": "markdown",
   "metadata": {},
   "source": [
    "## Section 14.6"
   ]
  },
  {
   "cell_type": "markdown",
   "metadata": {},
   "source": [
    "### Program 14.3"
   ]
  },
  {
   "cell_type": "markdown",
   "metadata": {},
   "source": [
    "We can solve for $\\psi$ directly. From Technical Point 14.2, we have\n",
    "\n",
    "$$\n",
    "\\hat\\psi = \\frac{\n",
    "    \\sum_{i=1}^{N} W_i^C Y_i\\left( A_i - \\mathrm{E}[A|L_i]\\right)\n",
    "}{\n",
    "    \\sum_{i=1}^{N} W_i^C A_i\\left( A_i - \\mathrm{E}[A|L_i]\\right)\n",
    "},\n",
    "$$\n",
    "\n",
    "where the sum is over the uncensored observations, $W^C$ is the IP weights, $Y$ is `wt82_71`, $A$ is `qsmk`, and $\\mathrm{E}[A|L_i]$ is the predicted `qsmk` from the model below."
   ]
  },
  {
   "cell_type": "code",
   "execution_count": 33,
   "metadata": {},
   "outputs": [],
   "source": [
    "A = nhefs.qsmk\n",
    "X = nhefs[[\n",
    "    'constant',\n",
    "    'sex', 'race', 'age', 'age^2', 'edu_2', 'edu_3', 'edu_4', 'edu_5',\n",
    "    'smokeintensity', 'smokeintensity^2', 'smokeyrs', 'smokeyrs^2', \n",
    "    'exercise_1', 'exercise_2', 'active_1', 'active_2', 'wt71', 'wt71^2',\n",
    "]]"
   ]
  },
  {
   "cell_type": "code",
   "execution_count": 34,
   "metadata": {},
   "outputs": [],
   "source": [
    "glm = sm.GLM(\n",
    "    A,\n",
    "    X,\n",
    "    freq_weights=ip_censor,\n",
    "    family=sm.families.Binomial()\n",
    ")\n",
    "res = glm.fit()"
   ]
  },
  {
   "cell_type": "code",
   "execution_count": 35,
   "metadata": {},
   "outputs": [
    {
     "data": {
      "text/html": [
       "<table class=\"simpletable\">\n",
       "<tr>\n",
       "          <td></td>            <th>coef</th>     <th>std err</th>      <th>z</th>      <th>P>|z|</th>  <th>[0.025</th>    <th>0.975]</th>  \n",
       "</tr>\n",
       "<tr>\n",
       "  <th>constant</th>         <td>   -2.4029</td> <td>    1.314</td> <td>   -1.829</td> <td> 0.067</td> <td>   -4.978</td> <td>    0.172</td>\n",
       "</tr>\n",
       "<tr>\n",
       "  <th>sex</th>              <td>   -0.5137</td> <td>    0.150</td> <td>   -3.422</td> <td> 0.001</td> <td>   -0.808</td> <td>   -0.219</td>\n",
       "</tr>\n",
       "<tr>\n",
       "  <th>race</th>             <td>   -0.8609</td> <td>    0.206</td> <td>   -4.178</td> <td> 0.000</td> <td>   -1.265</td> <td>   -0.457</td>\n",
       "</tr>\n",
       "<tr>\n",
       "  <th>age</th>              <td>    0.1152</td> <td>    0.049</td> <td>    2.328</td> <td> 0.020</td> <td>    0.018</td> <td>    0.212</td>\n",
       "</tr>\n",
       "<tr>\n",
       "  <th>age^2</th>            <td>   -0.0008</td> <td>    0.001</td> <td>   -1.478</td> <td> 0.140</td> <td>   -0.002</td> <td>    0.000</td>\n",
       "</tr>\n",
       "<tr>\n",
       "  <th>edu_2</th>            <td>   -0.0289</td> <td>    0.193</td> <td>   -0.150</td> <td> 0.881</td> <td>   -0.407</td> <td>    0.349</td>\n",
       "</tr>\n",
       "<tr>\n",
       "  <th>edu_3</th>            <td>    0.0877</td> <td>    0.173</td> <td>    0.507</td> <td> 0.612</td> <td>   -0.252</td> <td>    0.427</td>\n",
       "</tr>\n",
       "<tr>\n",
       "  <th>edu_4</th>            <td>    0.0664</td> <td>    0.266</td> <td>    0.249</td> <td> 0.803</td> <td>   -0.455</td> <td>    0.588</td>\n",
       "</tr>\n",
       "<tr>\n",
       "  <th>edu_5</th>            <td>    0.4711</td> <td>    0.221</td> <td>    2.130</td> <td> 0.033</td> <td>    0.038</td> <td>    0.904</td>\n",
       "</tr>\n",
       "<tr>\n",
       "  <th>smokeintensity</th>   <td>   -0.0783</td> <td>    0.015</td> <td>   -5.271</td> <td> 0.000</td> <td>   -0.107</td> <td>   -0.049</td>\n",
       "</tr>\n",
       "<tr>\n",
       "  <th>smokeintensity^2</th> <td>    0.0011</td> <td>    0.000</td> <td>    3.854</td> <td> 0.000</td> <td>    0.001</td> <td>    0.002</td>\n",
       "</tr>\n",
       "<tr>\n",
       "  <th>smokeyrs</th>         <td>   -0.0711</td> <td>    0.027</td> <td>   -2.627</td> <td> 0.009</td> <td>   -0.124</td> <td>   -0.018</td>\n",
       "</tr>\n",
       "<tr>\n",
       "  <th>smokeyrs^2</th>       <td>    0.0008</td> <td>    0.000</td> <td>    1.830</td> <td> 0.067</td> <td>-5.78e-05</td> <td>    0.002</td>\n",
       "</tr>\n",
       "<tr>\n",
       "  <th>exercise_1</th>       <td>    0.3363</td> <td>    0.175</td> <td>    1.921</td> <td> 0.055</td> <td>   -0.007</td> <td>    0.679</td>\n",
       "</tr>\n",
       "<tr>\n",
       "  <th>exercise_2</th>       <td>    0.3800</td> <td>    0.182</td> <td>    2.093</td> <td> 0.036</td> <td>    0.024</td> <td>    0.736</td>\n",
       "</tr>\n",
       "<tr>\n",
       "  <th>active_1</th>         <td>    0.0341</td> <td>    0.130</td> <td>    0.262</td> <td> 0.793</td> <td>   -0.221</td> <td>    0.289</td>\n",
       "</tr>\n",
       "<tr>\n",
       "  <th>active_2</th>         <td>    0.2135</td> <td>    0.206</td> <td>    1.036</td> <td> 0.300</td> <td>   -0.190</td> <td>    0.617</td>\n",
       "</tr>\n",
       "<tr>\n",
       "  <th>wt71</th>             <td>   -0.0077</td> <td>    0.025</td> <td>   -0.312</td> <td> 0.755</td> <td>   -0.056</td> <td>    0.041</td>\n",
       "</tr>\n",
       "<tr>\n",
       "  <th>wt71^2</th>           <td> 8.655e-05</td> <td>    0.000</td> <td>    0.574</td> <td> 0.566</td> <td>   -0.000</td> <td>    0.000</td>\n",
       "</tr>\n",
       "</table>"
      ],
      "text/plain": [
       "<class 'statsmodels.iolib.table.SimpleTable'>"
      ]
     },
     "execution_count": 35,
     "metadata": {},
     "output_type": "execute_result"
    }
   ],
   "source": [
    "res.summary().tables[1]"
   ]
  },
  {
   "cell_type": "markdown",
   "metadata": {},
   "source": [
    "Using the equation at the top of this section, $\\hat{\\psi}$ is calculated as below"
   ]
  },
  {
   "cell_type": "code",
   "execution_count": 36,
   "metadata": {},
   "outputs": [],
   "source": [
    "A_pred = res.predict(X)\n",
    "Y = nhefs.wt82_71\n",
    "\n",
    "estimate = (\n",
    "    (ip_censor * Y * (A - A_pred)).sum() /\n",
    "    (ip_censor * A * (A - A_pred)).sum()\n",
    ")"
   ]
  },
  {
   "cell_type": "code",
   "execution_count": 37,
   "metadata": {},
   "outputs": [
    {
     "data": {
      "text/plain": [
       "3.4458988033708127"
      ]
     },
     "execution_count": 37,
     "metadata": {},
     "output_type": "execute_result"
    }
   ],
   "source": [
    "estimate"
   ]
  },
  {
   "cell_type": "markdown",
   "metadata": {},
   "source": [
    "\"If $\\psi$ is D-dimensional...\"\n",
    "\n",
    "The following is a direct translation of what's in the R and Stata code examples"
   ]
  },
  {
   "cell_type": "code",
   "execution_count": 38,
   "metadata": {},
   "outputs": [],
   "source": [
    "diff = A - A_pred\n",
    "diff2 = ip_censor * diff"
   ]
  },
  {
   "cell_type": "code",
   "execution_count": 39,
   "metadata": {},
   "outputs": [
    {
     "data": {
      "text/plain": [
       "array([[   292.07618742,   5701.54685801],\n",
       "       [  5701.54685801, 153044.85432634]])"
      ]
     },
     "execution_count": 39,
     "metadata": {},
     "output_type": "execute_result"
    }
   ],
   "source": [
    "lhs = np.array([\n",
    "    [\n",
    "        (A * diff2).sum(),\n",
    "        (A * nhefs.smokeintensity  * diff2).sum()\n",
    "    ],\n",
    "    [\n",
    "        (A * nhefs.smokeintensity * diff2).sum(), \n",
    "        (A * nhefs.smokeintensity**2 * diff2).sum()\n",
    "    ]\n",
    "])\n",
    "\n",
    "lhs"
   ]
  },
  {
   "cell_type": "code",
   "execution_count": 40,
   "metadata": {},
   "outputs": [
    {
     "data": {
      "text/plain": [
       "array([[ 1006.46498472],\n",
       "       [20901.0679999 ]])"
      ]
     },
     "execution_count": 40,
     "metadata": {},
     "output_type": "execute_result"
    }
   ],
   "source": [
    "rhs = np.array([\n",
    "    [(Y * diff2).sum()],\n",
    "    [(Y * nhefs.smokeintensity * diff2).sum()]\n",
    "])\n",
    "\n",
    "rhs"
   ]
  },
  {
   "cell_type": "code",
   "execution_count": 41,
   "metadata": {},
   "outputs": [
    {
     "data": {
      "text/plain": [
       "array([[2.85947039],\n",
       "       [0.03004128]])"
      ]
     },
     "execution_count": 41,
     "metadata": {},
     "output_type": "execute_result"
    }
   ],
   "source": [
    "psi = np.linalg.solve(lhs,rhs)\n",
    "psi"
   ]
  }
 ],
 "metadata": {
  "kernelspec": {
   "display_name": "Python 3",
   "language": "python",
   "name": "python3"
  },
  "language_info": {
   "codemirror_mode": {
    "name": "ipython",
    "version": 3
   },
   "file_extension": ".py",
   "mimetype": "text/x-python",
   "name": "python",
   "nbconvert_exporter": "python",
   "pygments_lexer": "ipython3",
   "version": "3.7.5"
  }
 },
 "nbformat": 4,
 "nbformat_minor": 4
}
